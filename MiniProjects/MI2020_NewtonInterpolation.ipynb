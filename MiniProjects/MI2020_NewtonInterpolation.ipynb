{
 "cells": [
  {
   "cell_type": "code",
   "execution_count": 108,
   "id": "2f91b181",
   "metadata": {},
   "outputs": [],
   "source": [
    "import numpy as np\n",
    "import math\n",
    "\n",
    "def TPS_F( i , j ):\n",
    "  if abs( i - j ) == 1 :\n",
    "    return  (y[i] - y[j]) / (x[i] - x[j])\n",
    "  else :\n",
    "    return ( TPS_F(i + 1 , j) - TPS_F(i , j - 1 ) ) / (x[j] - x[i])\n",
    "  \n",
    "\n",
    "def TPS_B ( i , j ):\n",
    "  if abs( i - j ) == 1 :\n",
    "    return  (y[j] - y[i])\n",
    "  else :\n",
    "    return TPS_B(i + 1 , j) - TPS_B(i , j - 1 ) \n",
    "  "
   ]
  },
  {
   "cell_type": "code",
   "execution_count": 164,
   "id": "60bc84ed",
   "metadata": {},
   "outputs": [
    {
     "data": {
      "text/plain": [
       "array([ 2.61580000e+00,  5.44600000e-01,  1.59750000e-01,  1.12166667e-02,\n",
       "       -1.11022302e-16, -5.00000000e-06])"
      ]
     },
     "execution_count": 164,
     "metadata": {},
     "output_type": "execute_result"
    }
   ],
   "source": [
    "# x = [3.2 , 3.5 , 3.7 , 3.8 , 4.1]\n",
    "# y = [30.3222 , 40.5807 , 48.5752 , 52.9341 , 67.5127]\n",
    "\n",
    "# x = [1.3 , 1.6 , 1.8 , 2]\n",
    "# y = [4.1825 , 5.0324 , 5.7984 , 6.7516]\n",
    "\n",
    "x = [1.2 , 1.4 , 1.6  , 1.8 , 2 , 2.2]\n",
    "y = [2.6158  , 3.1604 , 4.0245 , 5.2754 , 6.9804 , 9.2062]\n",
    "\n",
    "n = len(x)\n",
    "x = np.array(x)\n",
    "def Forward_Different():\n",
    "  forward_vector = [y[0]]\n",
    "  for step in range(1, n ):\n",
    "    forward_vector.append(TPS_F(0 , step))\n",
    "  return(np.array(forward_vector))\n",
    "\n",
    "def Backward_Different():\n",
    "  backward_vector = [y[0]]\n",
    "  for step in range(1, n ):\n",
    "    backward_vector.append(TPS_B(0 , step) / math.factorial(step ))\n",
    "  return(np.array(backward_vector))\n",
    "\n",
    "Backward_Different()"
   ]
  },
  {
   "cell_type": "code",
   "execution_count": 165,
   "id": "15febd0e",
   "metadata": {},
   "outputs": [
    {
     "name": "stdout",
     "output_type": "stream",
     "text": [
      "[0 1 2 3 4]\n"
     ]
    },
    {
     "data": {
      "text/plain": [
       "array([[  0.,   0.,   0.,   0.,   0.,   1.],\n",
       "       [  0.,   0.,   0.,   0.,   1.,   0.],\n",
       "       [  0.,   0.,   0.,   1.,  -1.,   0.],\n",
       "       [  0.,   0.,   1.,  -3.,   2.,   0.],\n",
       "       [  0.,   1.,  -6.,  11.,  -6.,   0.],\n",
       "       [  1., -10.,  35., -50.,  24.,   0.]])"
      ]
     },
     "execution_count": 165,
     "metadata": {},
     "output_type": "execute_result"
    }
   ],
   "source": [
    "x_iterator = np.arange(n - 1)\n",
    "print(x_iterator)\n",
    "\n",
    "def Different_Table(x = x):\n",
    "  matrix_multi = np.zeros((n  , n ))\n",
    "  matrix_multi[1: , 0] = -x[:n-1]\n",
    "  matrix_multi[1: , 1] = 1\n",
    "  matrix_multi[0 , 0] = 1\n",
    "  for row in range(2 , n, 1):\n",
    "    temp = np.zeros(n)\n",
    "    for i in range(n):\n",
    "      for j in range(n - i):\n",
    "        temp[i+j] += matrix_multi[row - 1][i] * matrix_multi[row][j]\n",
    "    matrix_multi[row] = temp\n",
    "\n",
    "  matrix_multi = matrix_multi[: , ::-1]\n",
    "  return matrix_multi\n",
    "\n",
    "\n",
    "Different_Table(x = x_iterator)"
   ]
  },
  {
   "cell_type": "code",
   "execution_count": 166,
   "id": "384c966e",
   "metadata": {},
   "outputs": [],
   "source": [
    "def Compute_result_vector_forward():\n",
    "    print(f\"Vector ti phan sai : \\n {Forward_Different()} \")\n",
    "    print(f\"Ma tran tich : \\n {Different_Table()}\")\n",
    "    print(f\"Ket qua he so bat dau tu x^n-1 : \\n {(Forward_Different().T * Different_Table().T).T.sum(axis= 0)}\")\n",
    "\n",
    "def Compute_result_vector_backward():\n",
    "    print(f\"Vector ti phan sai : \\n {Backward_Different()} \")\n",
    "    print(f\"Ma tran tich : \\n {Different_Table(x = x_iterator)}\")\n",
    "    print(f\"Ket qua he so bat dau tu x^n-1 : \\n {(Backward_Different().T * Different_Table(x = x_iterator).T).T.sum(axis= 0)}\")\n",
    "\n",
    "def get_result_backward():\n",
    "    return (Backward_Different().T * Different_Table(x = x_iterator).T).T.sum(axis= 0)\n",
    "\n",
    "def get_result_forward():\n",
    "    return (Forward_Different().T * Different_Table().T).T.sum(axis= 0)\n"
   ]
  },
  {
   "cell_type": "code",
   "execution_count": 169,
   "id": "fe788e41",
   "metadata": {},
   "outputs": [
    {
     "data": {
      "text/plain": [
       "4.59738671875"
      ]
     },
     "execution_count": 169,
     "metadata": {},
     "output_type": "execute_result"
    }
   ],
   "source": [
    "def compute_value_backward( x_value) :\n",
    "    func = get_result_backward()\n",
    "    n = len(func)\n",
    "    sum = 0\n",
    "    for i  in range(n):\n",
    "        sum += func[i] * pow(x_value , n - i - 1)\n",
    "    return sum \n",
    "\n",
    "def compute_value_backward_grad( x_value) :\n",
    "    func = get_result_backward()\n",
    "    n = len(func)\n",
    "    sum = 0\n",
    "    for i  in range( n - 1):\n",
    "        sum += func[i] * pow(x_value , n - i - 2) * (n - i - 1)\n",
    "    return sum/(abs(x[0] - x[1]))\n",
    "\n",
    "def compute_value_forward( x_value) :\n",
    "    func = get_result_forward()\n",
    "    n = len(func)\n",
    "    sum = 0\n",
    "    for i  in range(n):\n",
    "        sum += func[i] * pow(x_value , n - i - 1)\n",
    "    return sum \n",
    "\n",
    "def compute_value_forward_grad( x_value) :\n",
    "    func = get_result_forward()\n",
    "    n = len(func)\n",
    "    sum = 0\n",
    "    for i  in range(n - 1):\n",
    "        sum += func[i] * pow(x_value , n - i - 2) * (n - i - 1)\n",
    "        print(func[i])\n",
    "    return sum\n",
    "\n",
    "compute_value_backward(2.5)\n"
   ]
  },
  {
   "cell_type": "code",
   "execution_count": null,
   "id": "20504caf",
   "metadata": {},
   "outputs": [],
   "source": []
  }
 ],
 "metadata": {
  "kernelspec": {
   "display_name": "base",
   "language": "python",
   "name": "python3"
  },
  "language_info": {
   "codemirror_mode": {
    "name": "ipython",
    "version": 3
   },
   "file_extension": ".py",
   "mimetype": "text/x-python",
   "name": "python",
   "nbconvert_exporter": "python",
   "pygments_lexer": "ipython3",
   "version": "3.11.7"
  }
 },
 "nbformat": 4,
 "nbformat_minor": 5
}
