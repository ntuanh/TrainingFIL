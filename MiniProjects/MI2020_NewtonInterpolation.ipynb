{
 "cells": [
  {
   "cell_type": "code",
   "execution_count": 2,
   "id": "2f91b181",
   "metadata": {},
   "outputs": [],
   "source": [
    "import numpy as np\n",
    "import math\n",
    "\n",
    "def TPS_F( i , j ):\n",
    "  if abs( i - j ) == 1 :\n",
    "    return  (y[i] - y[j]) / (x[i] - x[j])\n",
    "  else :\n",
    "    return ( TPS_F(i + 1 , j) - TPS_F(i , j - 1 ) ) / (x[j] - x[i])\n",
    "  \n",
    "\n",
    "def TPS_B ( i , j ):\n",
    "  if abs( i - j ) == 1 :\n",
    "    return  (y[j] - y[i])\n",
    "  else :\n",
    "    return TPS_B(i + 1 , j) - TPS_B(i , j - 1 ) \n",
    "  "
   ]
  },
  {
   "cell_type": "code",
   "execution_count": 3,
   "id": "60bc84ed",
   "metadata": {},
   "outputs": [
    {
     "data": {
      "text/plain": [
       "array([ 1.73600000e-01,  8.52000000e-02, -1.00000000e-03, -1.00000000e-04,\n",
       "        1.50342701e-17])"
      ]
     },
     "execution_count": 3,
     "metadata": {},
     "output_type": "execute_result"
    }
   ],
   "source": [
    "# x = [3.2 , 3.5 , 3.7 , 3.8 , 4.1]\n",
    "# y = [30.3222 , 40.5807 , 48.5752 , 52.9341 , 67.5127]\n",
    "\n",
    "# x = [1.3 , 1.6 , 1.8 , 2]\n",
    "# y = [4.1825 , 5.0324 , 5.7984 , 6.7516]\n",
    "\n",
    "# x = [1.2 , 1.4 , 1.6  , 1.8 , 2 , 2.2]\n",
    "# y = [2.6158  , 3.1604 , 4.0245 , 5.2754 , 6.9804 , 9.2062]\n",
    "x = np.array([10, 15, 20, 25, 30])\n",
    "y = np.array([0.1736, 0.2588, 0.3420, 0.4226, 0.5])\n",
    "\n",
    "\n",
    "n = len(x)\n",
    "x = np.array(x)\n",
    "def Forward_Different():\n",
    "  forward_vector = [y[0]]\n",
    "  for step in range(1, n ):\n",
    "    forward_vector.append(TPS_F(0 , step))\n",
    "  return(np.array(forward_vector))\n",
    "\n",
    "def Backward_Different():\n",
    "  backward_vector = [y[0]]\n",
    "  for step in range(1, n ):\n",
    "    backward_vector.append(TPS_B(0 , step) / math.factorial(step ))\n",
    "  return(np.array(backward_vector))\n",
    "\n",
    "Backward_Different()"
   ]
  },
  {
   "cell_type": "code",
   "execution_count": 4,
   "id": "15febd0e",
   "metadata": {},
   "outputs": [
    {
     "name": "stdout",
     "output_type": "stream",
     "text": [
      "[0 1 2 3]\n"
     ]
    },
    {
     "data": {
      "text/plain": [
       "array([[ 0.,  0.,  0.,  0.,  1.],\n",
       "       [ 0.,  0.,  0.,  1.,  0.],\n",
       "       [ 0.,  0.,  1., -1.,  0.],\n",
       "       [ 0.,  1., -3.,  2.,  0.],\n",
       "       [ 1., -6., 11., -6.,  0.]])"
      ]
     },
     "execution_count": 4,
     "metadata": {},
     "output_type": "execute_result"
    }
   ],
   "source": [
    "x_iterator = np.arange(n - 1)\n",
    "print(x_iterator)\n",
    "\n",
    "def Different_Table(x = x):\n",
    "  matrix_multi = np.zeros((n  , n ))\n",
    "  matrix_multi[1: , 0] = -x[:n-1]\n",
    "  matrix_multi[1: , 1] = 1\n",
    "  matrix_multi[0 , 0] = 1\n",
    "  for row in range(2 , n, 1):\n",
    "    temp = np.zeros(n)\n",
    "    for i in range(n):\n",
    "      for j in range(n - i):\n",
    "        temp[i+j] += matrix_multi[row - 1][i] * matrix_multi[row][j]\n",
    "    matrix_multi[row] = temp\n",
    "\n",
    "  matrix_multi = matrix_multi[: , ::-1]\n",
    "  return matrix_multi\n",
    "\n",
    "\n",
    "Different_Table(x = x_iterator)"
   ]
  },
  {
   "cell_type": "code",
   "execution_count": null,
   "id": "384c966e",
   "metadata": {},
   "outputs": [
    {
     "name": "stdout",
     "output_type": "stream",
     "text": [
      "Vector ti phan sai : \n",
      " [ 1.06460000e+02  1.66200000e+00 -3.79000000e-02  3.11500000e-03\n",
      " -8.97916667e-05] \n",
      "Ma tran tich : \n",
      " [[ 0.000e+00  0.000e+00  0.000e+00  0.000e+00  1.000e+00]\n",
      " [ 0.000e+00  0.000e+00  0.000e+00  1.000e+00 -1.000e+01]\n",
      " [ 0.000e+00  0.000e+00  1.000e+00 -2.500e+01  1.500e+02]\n",
      " [ 0.000e+00  1.000e+00 -4.500e+01  6.500e+02 -3.000e+03]\n",
      " [ 1.000e+00 -7.000e+01  1.775e+03 -1.925e+04  7.500e+04]]\n",
      "Ket qua he so bat dau tu x^n-1 : \n",
      " [-8.97916667e-05  9.40041667e-03 -3.37455208e-01  6.36273958e+00\n",
      "  6.80756250e+01]\n"
     ]
    }
   ],
   "source": [
    "def Compute_result_vector_forward():\n",
    "    print(f\"Vector ti phan sai : \\n {Forward_Different()} \")\n",
    "    print(f\"Ma tran tich : \\n {Different_Table()}\")\n",
    "    print(f\"Ket qua he so bat dau tu x^n-1 : \\n {(Forward_Different().T * Different_Table().T).T.sum(axis= 0)}\")\n",
    "\n",
    "def Compute_result_vector_backward():\n",
    "    print(f\"Vector ti phan sai : \\n {Backward_Different()} \")\n",
    "    print(f\"Ma tran tich : \\n {Different_Table(x = x_iterator)}\")\n",
    "    print(f\"Ket qua he so bat dau tu x^n-1 : \\n {(Backward_Different().T * Different_Table(x = x_iterator).T).T.sum(axis= 0)}\")\n",
    "\n",
    "def get_result_backward():\n",
    "    return (Backward_Different().T * Different_Table(x = x_iterator).T).T.sum(axis= 0)\n",
    "\n",
    "def get_result_forward():\n",
    "    return (Forward_Different().T * Different_Table().T).T.sum(axis= 0)\n",
    "\n",
    "# Compute_result_vector_forward()\n"
   ]
  },
  {
   "cell_type": "code",
   "execution_count": 14,
   "id": "fe788e41",
   "metadata": {},
   "outputs": [
    {
     "name": "stdout",
     "output_type": "stream",
     "text": [
      "Forward\n",
      "110.21694999999997\n",
      "Backward\n",
      "-6749.830000000014\n"
     ]
    }
   ],
   "source": [
    "def compute_value_backward( x_value) :\n",
    "    func = get_result_backward()\n",
    "    n = len(func)\n",
    "    sum = 0\n",
    "    for i  in range(n):\n",
    "        sum += func[i] * pow(x_value , n - i - 1)\n",
    "    return sum \n",
    "\n",
    "def compute_value_backward_grad( x_value) :\n",
    "    func = get_result_backward()\n",
    "    n = len(func)\n",
    "    sum = 0\n",
    "    for i  in range( n - 1):\n",
    "        sum += func[i] * pow(x_value , n - i - 2) * (n - i - 1)\n",
    "    return sum/(abs(x[0] - x[1]))\n",
    "\n",
    "def compute_value_forward( x_value) :\n",
    "    func = get_result_forward()\n",
    "    n = len(func)\n",
    "    sum = 0\n",
    "    for i  in range(n):\n",
    "        sum += func[i] * pow(x_value , n - i - 1)\n",
    "    return sum \n",
    "\n",
    "def compute_value_forward_grad( x_value) :\n",
    "    func = get_result_forward()\n",
    "    n = len(func)\n",
    "    sum = 0\n",
    "    for i  in range(n - 1):\n",
    "        sum += func[i] * pow(x_value , n - i - 2) * (n - i - 1)\n",
    "        print(func[i])\n",
    "    return sum\n",
    "\n",
    "print(\"Forward\")\n",
    "print(compute_value_forward( 12))\n",
    "# print(compute_value_forward_grad( 12.5))\n",
    "print(\"Backward\")\n",
    "print(compute_value_backward( 12))\n",
    "# print(compute_value_backward_grad( 12.5))\n"
   ]
  },
  {
   "cell_type": "markdown",
   "id": "c8174912",
   "metadata": {},
   "source": [
    "## 2. Lagrange\n"
   ]
  },
  {
   "cell_type": "code",
   "execution_count": 7,
   "id": "20504caf",
   "metadata": {},
   "outputs": [
    {
     "name": "stdout",
     "output_type": "stream",
     "text": [
      "175.08000000000197\n"
     ]
    }
   ],
   "source": [
    "import numpy as np\n",
    "import matplotlib.pyplot as plt\n",
    "\n",
    "# input data \n",
    "x = np.array(  [1920, 1930, 1940, 1950, 1960, 1970, 1980, 1990] )\n",
    "y = np.array( [106.46, 123.08, 132.12, 152.27, 180.67, 205.05, 227.23, 249.46] )\n",
    "\n",
    "\n",
    "def L_i ( i , value ) :\n",
    "    n = len(x)\n",
    "    L = 1\n",
    "    for j in range(n):\n",
    "        if j != i :\n",
    "            L *= (value - x[j]) / (x[i] - x[j])\n",
    "    return L\n",
    "\n",
    "def compute(x_value):\n",
    "    n = len(x)\n",
    "    sum = 0\n",
    "    for i in range(n):\n",
    "        sum += y[i] * L_i(i , x_value)\n",
    "    return sum\n",
    "\n",
    "print(compute(2000))"
   ]
  },
  {
   "cell_type": "code",
   "execution_count": 8,
   "id": "2ec7f403",
   "metadata": {},
   "outputs": [],
   "source": [
    "import matplotlib.pyplot as plt"
   ]
  },
  {
   "cell_type": "code",
   "execution_count": 9,
   "id": "f3f4060e",
   "metadata": {},
   "outputs": [
    {
     "data": {
      "text/plain": [
       "Text(0.5, 1.0, 'Interpolation')"
      ]
     },
     "execution_count": 9,
     "metadata": {},
     "output_type": "execute_result"
    },
    {
     "data": {
      "image/png": "[encoded data removed]",
      "text/plain": [
       "<Figure size 640x480 with 1 Axes>"
      ]
     },
     "metadata": {},
     "output_type": "display_data"
    }
   ],
   "source": [
    "%matplotlib inline\n",
    "y_test = np.array([0, 30000, 60000, 90000, 120000]\n",
    ")\n",
    "g_test = np.array([9.8100, 9.7487, 9.6879, 9.6278, 9.5682] \n",
    ")\n",
    "\n",
    "\n",
    "plt.plot(y_test , g_test  , label = 'Data')\n",
    "plt.xlabel('y (m)')\n",
    "plt.ylabel('g (m/s^2)')\n",
    "plt.title('Interpolation')"
   ]
  },
  {
   "cell_type": "code",
   "execution_count": null,
   "id": "bb561c4b",
   "metadata": {},
   "outputs": [],
   "source": []
  }
 ],
 "metadata": {
  "kernelspec": {
   "display_name": "Python 3",
   "language": "python",
   "name": "python3"
  },
  "language_info": {
   "codemirror_mode": {
    "name": "ipython",
    "version": 3
   },
   "file_extension": ".py",
   "mimetype": "text/x-python",
   "name": "python",
   "nbconvert_exporter": "python",
   "pygments_lexer": "ipython3",
   "version": "3.12.10"
  }
 },
 "nbformat": 4,
 "nbformat_minor": 5
}
