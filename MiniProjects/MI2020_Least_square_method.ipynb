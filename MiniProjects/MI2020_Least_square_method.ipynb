{
 "cells": [
  {
   "cell_type": "code",
   "execution_count": 29,
   "id": "c5792d3e",
   "metadata": {},
   "outputs": [],
   "source": [
    "# libraries \n",
    "import numpy as np \n",
    "import math "
   ]
  },
  {
   "cell_type": "code",
   "execution_count": 30,
   "id": "0090837b",
   "metadata": {},
   "outputs": [
    {
     "name": "stdout",
     "output_type": "stream",
     "text": [
      "5.196152422706632\n"
     ]
    }
   ],
   "source": [
    "# test bar \n",
    "y_1 = np.array([1 , 4, 9])\n",
    "y_2 = np.array([2 , 3, 4])\n",
    "\n",
    "norm = np.linalg.norm(y_1 - y_2 ) \n",
    "sigma = np.linalg.norm( y_1 - y_2) / np.sqrt(len(y_1))\n",
    "\n",
    "\n",
    "print(norm)"
   ]
  },
  {
   "cell_type": "code",
   "execution_count": 31,
   "id": "fe54c24f",
   "metadata": {},
   "outputs": [],
   "source": [
    "def compute_sigma( y1 , y2 ):\n",
    "    return np.linalg.norm(y1 - y2) / np.sqrt(len(y1))\n",
    "\n",
    "def compute_S (y1 , y2 ):\n",
    "    return np.linalg.norm(y1 - y2)**2 "
   ]
  },
  {
   "cell_type": "code",
   "execution_count": 32,
   "id": "29da97cd",
   "metadata": {},
   "outputs": [],
   "source": [
    "# In example y = a.x^3 + b.cos(x) \n",
    "\n",
    "# x = np.array([1.1, 1.3, 1.5, 1.7, 1.9, 2.1, 2.3, 2.5, 2.7, 2.9])\n",
    "# y = np.array([1.7768, 1.7539, 1.8608, 2.1408, 2.6374, 3.3936, 4.4511, 5.8497, 7.6265, 9.8157])\n",
    "\n",
    "# x = np.array([0.5, 1.5, 2.5, 3.0, 4.0])\n",
    "# y = np.array([0.45, 0.6, 0.70, 1.88, 6.0])\n",
    "\n",
    "x = np.array([0, 30000, 60000, 90000, 120000])\n",
    "y = np.array([9.8100, 9.7487, 9.6879, 9.6278, 9.5682])\n",
    "\n",
    "\n",
    "\n",
    "x = np.array(x)\n",
    "y = np.array(y)\n"
   ]
  },
  {
   "cell_type": "code",
   "execution_count": 33,
   "id": "b13b76db",
   "metadata": {},
   "outputs": [
    {
     "name": "stdout",
     "output_type": "stream",
     "text": [
      "a : 0.00 \t rounded from  1.0814080022780931e-06\n",
      "b : 9.62 \t rounded from  9.623635519863313\n"
     ]
    }
   ],
   "source": [
    "# define phi \n",
    "phi = []\n",
    "phi.append(x)   # x^3 correspond to a\n",
    "phi.append(pow(x , 0))   # correspond to b is 1 , set pow(x , 0)  \n",
    "\n",
    "n = len(phi)\n",
    "\n",
    "A = np.zeros((n , n))   # left side\n",
    "\n",
    "for i in range(n):\n",
    "    for j in range(n):\n",
    "        A[i][j] = np.sum(phi[i] * phi[j])\n",
    "\n",
    "B = np.zeros((n , 1))   # rightsize\n",
    "\n",
    "for i in range(n):\n",
    "    B[i][0] = np.sum(phi[i] * y)\n",
    "\n",
    "result = np.linalg.inv(A)@B\n",
    "\n",
    "for i in range(n):\n",
    "    print(f\"{chr(i + 97)} : {result[i][0]:.2f} \\t rounded from  {result[i][0]}\")\n",
    "\n",
    "\n"
   ]
  }
 ],
 "metadata": {
  "kernelspec": {
   "display_name": "base",
   "language": "python",
   "name": "python3"
  },
  "language_info": {
   "codemirror_mode": {
    "name": "ipython",
    "version": 3
   },
   "file_extension": ".py",
   "mimetype": "text/x-python",
   "name": "python",
   "nbconvert_exporter": "python",
   "pygments_lexer": "ipython3",
   "version": "3.11.7"
  }
 },
 "nbformat": 4,
 "nbformat_minor": 5
}
